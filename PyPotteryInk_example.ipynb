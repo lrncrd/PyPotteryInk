{
 "cells": [
  {
   "cell_type": "markdown",
   "metadata": {
    "id": "LTYsZenv0H6m"
   },
   "source": [
    "# PyPotteryInk: a walktrough (v0.0.3)"
   ]
  },
  {
   "cell_type": "markdown",
   "metadata": {
    "id": "j8x9DrhC0H6o"
   },
   "source": [
    "In this notebook a basic example of how to use the PyPotteryInk library is shown.\n",
    "\n",
    "First, you need a GPU to run this code. You can access free GPUs in Google Colab, just go to the menu and click on \"Runtime\" -> \"Change runtime type\" and select \"GPU T4\" in the Hardware accelerator dropdown."
   ]
  },
  {
   "cell_type": "markdown",
   "metadata": {
    "id": "Fzimi81W0H6p"
   },
   "source": [
    "This command will download the PyPotteryInk library from the project's [GitHub](https://github.com/lrncrd/PyPotteryInk) repository"
   ]
  },
  {
   "cell_type": "code",
   "execution_count": null,
   "metadata": {
    "id": "soP3MqE-RCjs"
   },
   "outputs": [],
   "source": [
    "! git clone https://github.com/lrncrd/PyPotteryInk"
   ]
  },
  {
   "cell_type": "markdown",
   "metadata": {
    "id": "dseu2dBj0H6q"
   },
   "source": [
    "This code will install the package and its dependencies. At the end of the installation, you will need to restart the runtime to use the package."
   ]
  },
  {
   "cell_type": "code",
   "execution_count": null,
   "metadata": {
    "id": "0-ONuzJpRSho"
   },
   "outputs": [],
   "source": [
    "! pip install -r /content/PyPotteryInk/requirements.txt"
   ]
  },
  {
   "cell_type": "markdown",
   "metadata": {
    "id": "YvCAfoEQ0H6q"
   },
   "source": [
    "Now, we are going to add the package to the Python path and import the necessary modules.\n",
    "\n",
    "Yes, is a just a technicality, but it is necessary to run the code."
   ]
  },
  {
   "cell_type": "code",
   "execution_count": null,
   "metadata": {
    "id": "l9EEw_p3Sxab"
   },
   "outputs": [],
   "source": [
    "import sys\n",
    "import os\n",
    "\n",
    "# Get the absolute path to the cloned repository\n",
    "repo_path = '/content/PyPotteryInk'\n",
    "\n",
    "# Add the repository path to Python's search path\n",
    "sys.path.insert(0, repo_path)"
   ]
  },
  {
   "cell_type": "markdown",
   "metadata": {
    "id": "xW4UYfbj0H6r"
   },
   "source": [
    "Now, we are going to import the necessary functions from the PyPotteryInk library."
   ]
  },
  {
   "cell_type": "code",
   "execution_count": 1,
   "metadata": {
    "id": "3DTr6QqbRTud"
   },
   "outputs": [
    {
     "ename": "ModuleNotFoundError",
     "evalue": "No module named 'torch'",
     "output_type": "error",
     "traceback": [
      "\u001b[0;31m---------------------------------------------------------------------------\u001b[0m",
      "\u001b[0;31mModuleNotFoundError\u001b[0m                       Traceback (most recent call last)",
      "Cell \u001b[0;32mIn[1], line 1\u001b[0m\n\u001b[0;32m----> 1\u001b[0m \u001b[38;5;28;01mfrom\u001b[39;00m \u001b[38;5;21;01mink\u001b[39;00m \u001b[38;5;28;01mimport\u001b[39;00m process_folder, run_diagnostics\n",
      "File \u001b[0;32m~/gitrepo/PyPotteryInk2/ink.py:3\u001b[0m\n\u001b[1;32m      1\u001b[0m \u001b[38;5;28;01mimport\u001b[39;00m \u001b[38;5;21;01mos\u001b[39;00m\n\u001b[1;32m      2\u001b[0m \u001b[38;5;28;01mfrom\u001b[39;00m \u001b[38;5;21;01mPIL\u001b[39;00m \u001b[38;5;28;01mimport\u001b[39;00m Image, ImageEnhance\n\u001b[0;32m----> 3\u001b[0m \u001b[38;5;28;01mimport\u001b[39;00m \u001b[38;5;21;01mtorch\u001b[39;00m\n\u001b[1;32m      4\u001b[0m \u001b[38;5;28;01mfrom\u001b[39;00m \u001b[38;5;21;01mtorchvision\u001b[39;00m \u001b[38;5;28;01mimport\u001b[39;00m transforms\n\u001b[1;32m      5\u001b[0m \u001b[38;5;28;01mimport\u001b[39;00m \u001b[38;5;21;01mtorchvision\u001b[39;00m\u001b[38;5;21;01m.\u001b[39;00m\u001b[38;5;21;01mtransforms\u001b[39;00m\u001b[38;5;21;01m.\u001b[39;00m\u001b[38;5;21;01mfunctional\u001b[39;00m \u001b[38;5;28;01mas\u001b[39;00m \u001b[38;5;21;01mF\u001b[39;00m\n",
      "\u001b[0;31mModuleNotFoundError\u001b[0m: No module named 'torch'"
     ]
    }
   ],
   "source": [
    "from ink import process_folder, run_diagnostics"
   ]
  },
  {
   "cell_type": "markdown",
   "metadata": {
    "id": "YABABy672muK"
   },
   "source": [
    "This code snippet allow to download a model from the HugginFace's project hub."
   ]
  },
  {
   "cell_type": "code",
   "execution_count": null,
   "metadata": {
    "id": "nveQBifh1Y4x"
   },
   "outputs": [],
   "source": [
    "import os\n",
    "import requests\n",
    "from pathlib import Path\n",
    "\n",
    "url = 'https://huggingface.co/lrncrd/PyPotteryInk/resolve/main/6h-MC.pkl?download=true'\n",
    "\n",
    "response = requests.get(url, stream=True)\n",
    "response.raise_for_status()\n",
    "\n",
    "model = \"model.pkl\"  # Specify the desired filename\n",
    "\n",
    "with open(model, 'wb') as f:\n",
    "  for data in response.iter_content(1024):\n",
    "      f.write(data)"
   ]
  },
  {
   "cell_type": "markdown",
   "metadata": {
    "id": "2OpkcCFZ0H6r"
   },
   "source": [
    "Now, you need to specify a folder with your images. The best way is to link this notebook to your Google Drive to always access the same folder. You can do this by running this code and follow the instructions."
   ]
  },
  {
   "cell_type": "code",
   "execution_count": null,
   "metadata": {
    "id": "Q_jXxZXO3gaq"
   },
   "outputs": [],
   "source": [
    "from google.colab import drive\n",
    "drive.mount('/content/drive')"
   ]
  },
  {
   "cell_type": "markdown",
   "metadata": {
    "id": "FjdZCxK1380x"
   },
   "source": [
    "Now, you need to specify the folder you need to process. It will look something like this:\n",
    "\n",
    "`\"/content/drive/MyDrive/FOLDER_NAME\"`\n",
    "\n",
    "You need to modify this path:\n"
   ]
  },
  {
   "cell_type": "code",
   "execution_count": null,
   "metadata": {
    "id": "PRGgsIZwTEVr"
   },
   "outputs": [],
   "source": [
    "images_path = \"MODIFY_HERE\""
   ]
  },
  {
   "cell_type": "markdown",
   "metadata": {
    "id": "KIPop9615OhY"
   },
   "source": [
    "As this path will be used by the package to localise your drawings.\n",
    "\n",
    "Now, we are ready to apply the model! Let's start with a diagnostic of our dataset. [Here](https://lrncrd.github.io/PyPotteryInk/docs_preprocessing.html) you can find more info.\n"
   ]
  },
  {
   "cell_type": "code",
   "execution_count": null,
   "metadata": {
    "id": "zImvVKHWS_Ai"
   },
   "outputs": [],
   "source": [
    "run_diagnostics(\n",
    "    input_folder=images_path,                   # Where your drawings are stored\n",
    "    model_path= model,                          # The trained model file\n",
    "    num_sample_images=1,                        # How many test images to analyze\n",
    "    contrast_values=[0.5, 0.75, 1, 1.5, 2, 3],  # Different contrast levels to test\n",
    ")"
   ]
  },
  {
   "cell_type": "markdown",
   "metadata": {
    "id": "UPjo2ixh54HB"
   },
   "source": [
    "And now you can process the folder. [Here](https://lrncrd.github.io/PyPotteryInk/docs_main.html) you can find more info."
   ]
  },
  {
   "cell_type": "code",
   "execution_count": null,
   "metadata": {
    "id": "TTmM4E5ZVji7"
   },
   "outputs": [],
   "source": [
    "process_folder(\n",
    "    input_folder=images_path,                  # Input folder containing your drawings\n",
    "    model_path= model,\n",
    "    contrast_scale=1.0,                        # Chosen based on diagnostic results\n",
    "    output_dir=\"/content/drive/MyDrive/Inked\", # We define an output folder\n",
    "    use_fp16=True,                             # Enables faster processing\n",
    "    file_extensions=('.jpg', '.tif', '.png'),   # Supported file formats\n",
    "    upscale=1,                                 # Upscaling factor (1.0 means no upscaling)\n",
    ")"
   ]
  }
 ],
 "metadata": {
  "accelerator": "GPU",
  "colab": {
   "gpuType": "T4",
   "provenance": []
  },
  "kernelspec": {
   "display_name": "Python 3 (ipykernel)",
   "language": "python",
   "name": "python3"
  },
  "language_info": {
   "codemirror_mode": {
    "name": "ipython",
    "version": 3
   },
   "file_extension": ".py",
   "mimetype": "text/x-python",
   "name": "python",
   "nbconvert_exporter": "python",
   "pygments_lexer": "ipython3",
   "version": "3.12.3"
  }
 },
 "nbformat": 4,
 "nbformat_minor": 1
}
